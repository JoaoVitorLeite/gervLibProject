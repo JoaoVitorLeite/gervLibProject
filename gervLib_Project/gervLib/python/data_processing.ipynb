{
 "cells": [
  {
   "cell_type": "code",
   "execution_count": 1,
   "id": "4416c53b",
   "metadata": {},
   "outputs": [],
   "source": [
    "from sklearn.preprocessing import MinMaxScaler\n",
    "import pandas as pd\n",
    "import os"
   ]
  },
  {
   "cell_type": "code",
   "execution_count": 8,
   "id": "cc57fd73",
   "metadata": {},
   "outputs": [],
   "source": [
    "def min_max_normalizer(filePath, sep, fileOutput, header_=None):\n",
    "    df = pd.read_csv(filepath_or_buffer=filePath, sep=sep, header=header_)\n",
    "    dir_path = os.path.dirname(os.path.realpath(filePath))\n",
    "    scaler = MinMaxScaler()\n",
    "    df = pd.DataFrame(scaler.fit_transform(df))\n",
    "    df.to_csv(os.path.join(dir_path, fileOutput), index=False, header=False)    \n",
    "#     print(dir_path)\n",
    "#     print(os.path.join(dir_path, fileOutput))\n",
    "\n",
    "def min_max_normalizer_remove_duplicates(filePath, sep, fileOutput, header_=None):\n",
    "    df = pd.read_csv(filepath_or_buffer=filePath, sep=sep, header=header_)\n",
    "    df.drop_duplicates(inplace=True)\n",
    "    dir_path = os.path.dirname(os.path.realpath(filePath))\n",
    "    scaler = MinMaxScaler()\n",
    "    df = pd.DataFrame(scaler.fit_transform(df))\n",
    "    df.to_csv(os.path.join(dir_path, fileOutput), index=False, header=False)"
   ]
  },
  {
   "cell_type": "code",
   "execution_count": 20,
   "id": "17bb60f8",
   "metadata": {},
   "outputs": [],
   "source": [
    "# min_max_normalizer('/home/joaovictor/Documents/TCC/Code/spb_project/SPB/datasets/LA.txt', ' ', 'LA_norm.txt')"
   ]
  },
  {
   "cell_type": "code",
   "execution_count": 9,
   "id": "7614cfcd",
   "metadata": {},
   "outputs": [],
   "source": [
    "min_max_normalizer_remove_duplicates('../datasets/aloi.csv', ',', 'aloi_norm.csv')"
   ]
  },
  {
   "cell_type": "code",
   "execution_count": 10,
   "id": "f1b72524",
   "metadata": {},
   "outputs": [],
   "source": [
    "min_max_normalizer_remove_duplicates('../datasets/avila.csv', ',', 'avila_norm.csv')"
   ]
  },
  {
   "cell_type": "code",
   "execution_count": 11,
   "id": "d3264eec",
   "metadata": {},
   "outputs": [],
   "source": [
    "min_max_normalizer_remove_duplicates('../datasets/card.csv', ',', 'card_norm.csv')"
   ]
  },
  {
   "cell_type": "code",
   "execution_count": 13,
   "id": "d00221cd",
   "metadata": {},
   "outputs": [],
   "source": [
    "min_max_normalizer_remove_duplicates('../datasets/cophir_280k_exp_ready.csv', ',', 'cophir_norm.csv')"
   ]
  },
  {
   "cell_type": "code",
   "execution_count": 14,
   "id": "31d8b28c",
   "metadata": {},
   "outputs": [],
   "source": [
    "min_max_normalizer_remove_duplicates('../datasets/integer.txt', ' ', 'integer_norm.csv')"
   ]
  },
  {
   "cell_type": "code",
   "execution_count": 15,
   "id": "79e38315",
   "metadata": {},
   "outputs": [],
   "source": [
    "min_max_normalizer_remove_duplicates('../datasets/Internet_Firewall.csv', ',', 'internet_firewall_norm.csv')"
   ]
  },
  {
   "cell_type": "code",
   "execution_count": 16,
   "id": "600f17e7",
   "metadata": {},
   "outputs": [],
   "source": [
    "min_max_normalizer_remove_duplicates('../datasets/LA.txt', ' ', 'LA_norm.csv')"
   ]
  },
  {
   "cell_type": "code",
   "execution_count": 17,
   "id": "23dea47b",
   "metadata": {},
   "outputs": [],
   "source": [
    "min_max_normalizer_remove_duplicates('../datasets/mnist_exp_ready.csv', ',', 'mnist_norm.csv')"
   ]
  },
  {
   "cell_type": "code",
   "execution_count": 18,
   "id": "7f918df1",
   "metadata": {},
   "outputs": [],
   "source": [
    "min_max_normalizer_remove_duplicates('../datasets/nasa.csv', ' ', 'nasa_norm.csv')"
   ]
  },
  {
   "cell_type": "code",
   "execution_count": 19,
   "id": "e9701221",
   "metadata": {},
   "outputs": [],
   "source": [
    "min_max_normalizer_remove_duplicates('../datasets/sift_140k.csv', ',', 'sift_norm.csv')"
   ]
  },
  {
   "cell_type": "code",
   "execution_count": 20,
   "id": "a9060978",
   "metadata": {},
   "outputs": [
    {
     "name": "stderr",
     "output_type": "stream",
     "text": [
      "/home/joaoleite/anaconda3/lib/python3.10/site-packages/sklearn/preprocessing/_data.py:473: RuntimeWarning: All-NaN slice encountered\n",
      "  data_min = np.nanmin(X, axis=0)\n",
      "/home/joaoleite/anaconda3/lib/python3.10/site-packages/sklearn/preprocessing/_data.py:474: RuntimeWarning: All-NaN slice encountered\n",
      "  data_max = np.nanmax(X, axis=0)\n"
     ]
    }
   ],
   "source": [
    "min_max_normalizer_remove_duplicates('../datasets/synthetic.txt', ' ', 'synthetic_norm.csv')"
   ]
  },
  {
   "cell_type": "code",
   "execution_count": 21,
   "id": "f79cecf5",
   "metadata": {},
   "outputs": [],
   "source": [
    "min_max_normalizer_remove_duplicates('../datasets/ulcer_SPP.csv', ',', 'ulcer_norm.csv')"
   ]
  },
  {
   "cell_type": "code",
   "execution_count": null,
   "id": "19af6bde",
   "metadata": {},
   "outputs": [],
   "source": []
  }
 ],
 "metadata": {
  "kernelspec": {
   "display_name": "Python 3 (ipykernel)",
   "language": "python",
   "name": "python3"
  },
  "language_info": {
   "codemirror_mode": {
    "name": "ipython",
    "version": 3
   },
   "file_extension": ".py",
   "mimetype": "text/x-python",
   "name": "python",
   "nbconvert_exporter": "python",
   "pygments_lexer": "ipython3",
   "version": "3.10.9"
  }
 },
 "nbformat": 4,
 "nbformat_minor": 5
}
