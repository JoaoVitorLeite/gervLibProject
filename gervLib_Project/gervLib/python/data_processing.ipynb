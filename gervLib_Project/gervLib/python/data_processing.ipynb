{
 "cells": [
  {
   "cell_type": "code",
   "execution_count": 2,
   "id": "4416c53b",
   "metadata": {},
   "outputs": [],
   "source": [
    "from sklearn.preprocessing import MinMaxScaler\n",
    "import pandas as pd\n",
    "import os"
   ]
  },
  {
   "cell_type": "code",
   "execution_count": 19,
   "id": "cc57fd73",
   "metadata": {},
   "outputs": [],
   "source": [
    "def min_max_normalizer(filePath, sep, fileOutput, header_=None):\n",
    "    df = pd.read_csv(filepath_or_buffer=filePath, sep=sep, header=header_)\n",
    "    dir_path = os.path.dirname(os.path.realpath(filePath))\n",
    "    scaler = MinMaxScaler()\n",
    "    df = pd.DataFrame(scaler.fit_transform(df))\n",
    "    df.to_csv(os.path.join(dir_path, fileOutput))    \n",
    "#     print(dir_path)\n",
    "#     print(os.path.join(dir_path, fileOutput))"
   ]
  },
  {
   "cell_type": "code",
   "execution_count": 20,
   "id": "17bb60f8",
   "metadata": {},
   "outputs": [],
   "source": [
    "min_max_normalizer('/home/joaovictor/Documents/TCC/Code/spb_project/SPB/datasets/LA.txt', ' ', 'LA_norm.txt')"
   ]
  },
  {
   "cell_type": "code",
   "execution_count": null,
   "id": "7614cfcd",
   "metadata": {},
   "outputs": [],
   "source": []
  },
  {
   "cell_type": "code",
   "execution_count": null,
   "id": "f1b72524",
   "metadata": {},
   "outputs": [],
   "source": []
  },
  {
   "cell_type": "code",
   "execution_count": null,
   "id": "d3264eec",
   "metadata": {},
   "outputs": [],
   "source": []
  },
  {
   "cell_type": "code",
   "execution_count": null,
   "id": "d00221cd",
   "metadata": {},
   "outputs": [],
   "source": []
  }
 ],
 "metadata": {
  "kernelspec": {
   "display_name": "Python 3",
   "language": "python",
   "name": "python3"
  },
  "language_info": {
   "codemirror_mode": {
    "name": "ipython",
    "version": 3
   },
   "file_extension": ".py",
   "mimetype": "text/x-python",
   "name": "python",
   "nbconvert_exporter": "python",
   "pygments_lexer": "ipython3",
   "version": "3.8.10"
  }
 },
 "nbformat": 4,
 "nbformat_minor": 5
}
