{
 "cells": [
  {
   "cell_type": "code",
   "execution_count": 1,
   "id": "4416c53b",
   "metadata": {},
   "outputs": [],
   "source": [
    "from sklearn.preprocessing import MinMaxScaler\n",
    "import pandas as pd\n",
    "import os\n",
    "import csv\n",
    "import random"
   ]
  },
  {
   "cell_type": "code",
   "execution_count": 2,
   "id": "cc57fd73",
   "metadata": {},
   "outputs": [],
   "source": [
    "def min_max_normalizer(filePath, sep, fileOutput, header_=None):\n",
    "    df = pd.read_csv(filepath_or_buffer=filePath, sep=sep, header=header_)\n",
    "    dir_path = os.path.dirname(os.path.realpath(filePath))\n",
    "    scaler = MinMaxScaler()\n",
    "    df = pd.DataFrame(scaler.fit_transform(df))\n",
    "    df.to_csv(os.path.join(dir_path, fileOutput), index=False, header=False)    \n",
    "#     print(dir_path)\n",
    "#     print(os.path.join(dir_path, fileOutput))\n",
    "\n",
    "def min_max_normalizer_remove_duplicates(filePath, sep, fileOutput, header_=None):\n",
    "    df = pd.read_csv(filepath_or_buffer=filePath, sep=sep, header=header_)\n",
    "    df.drop_duplicates(inplace=True)\n",
    "    dir_path = os.path.dirname(os.path.realpath(filePath))\n",
    "    scaler = MinMaxScaler()\n",
    "    df = pd.DataFrame(scaler.fit_transform(df))\n",
    "    df.to_csv(os.path.join(dir_path, fileOutput), index=False, header=False)"
   ]
  },
  {
   "cell_type": "code",
   "execution_count": 20,
   "id": "17bb60f8",
   "metadata": {},
   "outputs": [],
   "source": [
    "# min_max_normalizer('/home/joaovictor/Documents/TCC/Code/spb_project/SPB/datasets/LA.txt', ' ', 'LA_norm.txt')"
   ]
  },
  {
   "cell_type": "code",
   "execution_count": 9,
   "id": "7614cfcd",
   "metadata": {},
   "outputs": [],
   "source": [
    "min_max_normalizer_remove_duplicates('../datasets/aloi.csv', ',', 'aloi_norm.csv')"
   ]
  },
  {
   "cell_type": "code",
   "execution_count": 10,
   "id": "f1b72524",
   "metadata": {},
   "outputs": [],
   "source": [
    "min_max_normalizer_remove_duplicates('../datasets/avila.csv', ',', 'avila_norm.csv')"
   ]
  },
  {
   "cell_type": "code",
   "execution_count": 11,
   "id": "d3264eec",
   "metadata": {},
   "outputs": [],
   "source": [
    "min_max_normalizer_remove_duplicates('../datasets/card.csv', ',', 'card_norm.csv')"
   ]
  },
  {
   "cell_type": "code",
   "execution_count": 13,
   "id": "d00221cd",
   "metadata": {},
   "outputs": [],
   "source": [
    "min_max_normalizer_remove_duplicates('../datasets/cophir_280k_exp_ready.csv', ',', 'cophir_norm.csv')"
   ]
  },
  {
   "cell_type": "code",
   "execution_count": 14,
   "id": "31d8b28c",
   "metadata": {},
   "outputs": [],
   "source": [
    "min_max_normalizer_remove_duplicates('../datasets/integer.txt', ' ', 'integer_norm.csv')"
   ]
  },
  {
   "cell_type": "code",
   "execution_count": 15,
   "id": "79e38315",
   "metadata": {},
   "outputs": [],
   "source": [
    "min_max_normalizer_remove_duplicates('../datasets/Internet_Firewall.csv', ',', 'internet_firewall_norm.csv')"
   ]
  },
  {
   "cell_type": "code",
   "execution_count": 16,
   "id": "600f17e7",
   "metadata": {},
   "outputs": [],
   "source": [
    "min_max_normalizer_remove_duplicates('../datasets/LA.txt', ' ', 'LA_norm.csv')"
   ]
  },
  {
   "cell_type": "code",
   "execution_count": 17,
   "id": "23dea47b",
   "metadata": {},
   "outputs": [],
   "source": [
    "min_max_normalizer_remove_duplicates('../datasets/mnist_exp_ready.csv', ',', 'mnist_norm.csv')"
   ]
  },
  {
   "cell_type": "code",
   "execution_count": 18,
   "id": "7f918df1",
   "metadata": {},
   "outputs": [],
   "source": [
    "min_max_normalizer_remove_duplicates('../datasets/nasa.csv', ' ', 'nasa_norm.csv')"
   ]
  },
  {
   "cell_type": "code",
   "execution_count": 19,
   "id": "e9701221",
   "metadata": {},
   "outputs": [],
   "source": [
    "min_max_normalizer_remove_duplicates('../datasets/sift_140k.csv', ',', 'sift_norm.csv')"
   ]
  },
  {
   "cell_type": "code",
   "execution_count": 20,
   "id": "a9060978",
   "metadata": {},
   "outputs": [
    {
     "name": "stderr",
     "output_type": "stream",
     "text": [
      "/home/joaoleite/anaconda3/lib/python3.10/site-packages/sklearn/preprocessing/_data.py:473: RuntimeWarning: All-NaN slice encountered\n",
      "  data_min = np.nanmin(X, axis=0)\n",
      "/home/joaoleite/anaconda3/lib/python3.10/site-packages/sklearn/preprocessing/_data.py:474: RuntimeWarning: All-NaN slice encountered\n",
      "  data_max = np.nanmax(X, axis=0)\n"
     ]
    }
   ],
   "source": [
    "min_max_normalizer_remove_duplicates('../datasets/synthetic.txt', ' ', 'synthetic_norm.csv')"
   ]
  },
  {
   "cell_type": "code",
   "execution_count": 21,
   "id": "f79cecf5",
   "metadata": {},
   "outputs": [],
   "source": [
    "min_max_normalizer_remove_duplicates('../datasets/ulcer_SPP.csv', ',', 'ulcer_norm.csv')"
   ]
  },
  {
   "cell_type": "code",
   "execution_count": null,
   "id": "19af6bde",
   "metadata": {},
   "outputs": [],
   "source": []
  },
  {
   "cell_type": "code",
   "execution_count": 2,
   "id": "3ddd0281",
   "metadata": {},
   "outputs": [],
   "source": [
    "def split_train_test(path, sep, name, header_=None):\n",
    "    df = pd.read_csv(filepath_or_buffer=path, sep=sep, header=header_)\n",
    "    train=df.sample(frac=0.9, random_state=7715)\n",
    "    test=df.drop(train.index)\n",
    "    dir_path = os.path.dirname(os.path.realpath(path))\n",
    "    trainName = \"train_\" + name\n",
    "    testName = \"test_\" + name\n",
    "    train.to_csv(os.path.join(dir_path, trainName), index=False, header=False)\n",
    "    test.to_csv(os.path.join(dir_path, testName), index=False, header=False)"
   ]
  },
  {
   "cell_type": "code",
   "execution_count": 12,
   "id": "48a91217",
   "metadata": {},
   "outputs": [],
   "source": [
    "split_train_test(\"../datasets/aloi_norm.csv\", \",\", \"aloi_norm.csv\")"
   ]
  },
  {
   "cell_type": "code",
   "execution_count": 13,
   "id": "82e920b2",
   "metadata": {},
   "outputs": [],
   "source": [
    "split_train_test(\"../datasets/avila_norm.csv\", \",\", \"avila_norm.csv\")"
   ]
  },
  {
   "cell_type": "code",
   "execution_count": 14,
   "id": "8368f5df",
   "metadata": {},
   "outputs": [],
   "source": [
    "split_train_test(\"../datasets/card_norm.csv\", \",\", \"card_norm.csv\")"
   ]
  },
  {
   "cell_type": "code",
   "execution_count": 15,
   "id": "b30c4bc2",
   "metadata": {},
   "outputs": [],
   "source": [
    "split_train_test(\"../datasets/cities_norm.csv\", \",\", \"cities_norm.csv\")"
   ]
  },
  {
   "cell_type": "code",
   "execution_count": 3,
   "id": "40e55e89",
   "metadata": {},
   "outputs": [],
   "source": [
    "split_train_test(\"../datasets/cophir_norm.csv\", \",\", \"cophir_norm.csv\")"
   ]
  },
  {
   "cell_type": "code",
   "execution_count": null,
   "id": "1d5c3f41",
   "metadata": {},
   "outputs": [],
   "source": [
    "split_train_test(\"../datasets/integer_norm.csv\", \",\", \"integer_norm.csv\")"
   ]
  },
  {
   "cell_type": "code",
   "execution_count": 3,
   "id": "27be280b",
   "metadata": {},
   "outputs": [],
   "source": [
    "split_train_test(\"../datasets/internet_firewall_norm.csv\", \",\", \"internet_firewall_norm.csv\")"
   ]
  },
  {
   "cell_type": "code",
   "execution_count": 4,
   "id": "e37b9e9f",
   "metadata": {},
   "outputs": [],
   "source": [
    "split_train_test(\"../datasets/LA_norm.csv\", \",\", \"LA_norm.csv\")"
   ]
  },
  {
   "cell_type": "code",
   "execution_count": 5,
   "id": "a27ea049",
   "metadata": {},
   "outputs": [],
   "source": [
    "split_train_test(\"../datasets/mnist_norm.csv\", \",\", \"mnist_norm.csv\")"
   ]
  },
  {
   "cell_type": "code",
   "execution_count": 6,
   "id": "4c68ef91",
   "metadata": {},
   "outputs": [],
   "source": [
    "split_train_test(\"../datasets/nasa_norm.csv\", \",\", \"nasa_norm.csv\")"
   ]
  },
  {
   "cell_type": "code",
   "execution_count": 7,
   "id": "e5618357",
   "metadata": {},
   "outputs": [],
   "source": [
    "split_train_test(\"../datasets/sift_norm.csv\", \",\", \"sift_norm.csv\")"
   ]
  },
  {
   "cell_type": "code",
   "execution_count": 8,
   "id": "8d10b2bf",
   "metadata": {},
   "outputs": [],
   "source": [
    "split_train_test(\"../datasets/synthetic_norm.csv\", \",\", \"synthetic_norm.csv\")"
   ]
  },
  {
   "cell_type": "code",
   "execution_count": 9,
   "id": "59a29d49",
   "metadata": {},
   "outputs": [],
   "source": [
    "split_train_test(\"../datasets/synthetic_norm.csv\", \",\", \"synthetic_norm.csv\")"
   ]
  },
  {
   "cell_type": "code",
   "execution_count": 10,
   "id": "84aed6d7",
   "metadata": {},
   "outputs": [],
   "source": [
    "split_train_test(\"../datasets/ulcer_norm.csv\", \",\", \"ulcer_norm.csv\")"
   ]
  },
  {
   "cell_type": "code",
   "execution_count": null,
   "id": "a0dd6570",
   "metadata": {},
   "outputs": [],
   "source": []
  },
  {
   "cell_type": "code",
   "execution_count": 3,
   "id": "558c75a6",
   "metadata": {},
   "outputs": [],
   "source": [
    "def dataset_sample(path, name, sample_size):\n",
    "    dir_path = os.path.dirname(os.path.realpath(path))\n",
    "    \n",
    "    with open(path, 'r') as csv_file:\n",
    "        reader = csv.reader(csv_file)\n",
    "        rows = random.sample(list(reader), sample_size)\n",
    "        \n",
    "    output_file = os.path.join(dir_path, name)\n",
    "\n",
    "    with open(output_file, 'w', newline='') as csv_file:\n",
    "        writer = csv.writer(csv_file)\n",
    "        \n",
    "        for row in rows:\n",
    "            writer.writerow(row)"
   ]
  },
  {
   "cell_type": "code",
   "execution_count": 5,
   "id": "be1f6477",
   "metadata": {},
   "outputs": [],
   "source": [
    "dataset_sample(\"../datasets/mnist_norm.csv\", \"mnist_s_norm.csv\", 7000)\n",
    "split_train_test(\"../datasets/mnist_s_norm.csv\", \",\", \"mnist_s_norm.csv\")"
   ]
  },
  {
   "cell_type": "code",
   "execution_count": null,
   "id": "6dc19255",
   "metadata": {},
   "outputs": [],
   "source": []
  },
  {
   "cell_type": "code",
   "execution_count": 15,
   "id": "1b0808af",
   "metadata": {},
   "outputs": [],
   "source": [
    "import pandas as pd\n",
    "import numpy as np\n",
    "\n",
    "def generate_dataset(cardinality, dimensionality):\n",
    "    dataset = set()\n",
    "    while len(dataset) < cardinality:\n",
    "        row = np.random.uniform(dimensionality)\n",
    "        row_tuple = tuple(row)\n",
    "        dataset.add(row_tuple)\n",
    "\n",
    "df = pd.DataFrame(generate_uniform_dataset(30000, 20))\n",
    "df.to_csv('../datasets/syn_norm.csv', sep=',', index=False, header=False)"
   ]
  }
 ],
 "metadata": {
  "kernelspec": {
   "display_name": "Python 3 (ipykernel)",
   "language": "python",
   "name": "python3"
  },
  "language_info": {
   "codemirror_mode": {
    "name": "ipython",
    "version": 3
   },
   "file_extension": ".py",
   "mimetype": "text/x-python",
   "name": "python",
   "nbconvert_exporter": "python",
   "pygments_lexer": "ipython3",
   "version": "3.10.9"
  }
 },
 "nbformat": 4,
 "nbformat_minor": 5
}
