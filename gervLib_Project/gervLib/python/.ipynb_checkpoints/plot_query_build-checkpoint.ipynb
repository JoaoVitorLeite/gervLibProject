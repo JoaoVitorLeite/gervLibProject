{
 "cells": [
  {
   "cell_type": "code",
   "execution_count": 7,
   "id": "f28e325f",
   "metadata": {},
   "outputs": [],
   "source": [
    "import matplotlib.pyplot as plt\n",
    "import pandas as pd\n",
    "import numpy as np\n",
    "from matplotlib import cm\n",
    "import io\n",
    "import seaborn as sns\n",
    "import os\n",
    "from os import listdir\n",
    "from os.path import isfile, join\n",
    "%matplotlib inline"
   ]
  },
  {
   "cell_type": "code",
   "execution_count": 19,
   "id": "f9ac5225",
   "metadata": {},
   "outputs": [],
   "source": [
    "path = \"../results/nasa_results/\""
   ]
  },
  {
   "cell_type": "code",
   "execution_count": 28,
   "id": "29d1c63a",
   "metadata": {},
   "outputs": [],
   "source": [
    "index_path = [join(path, \"omni_results/\"), join(path, \"vp_results/\"), join(path, \"pm_results/\")]\n",
    "\n",
    "query_data = []\n",
    "\n",
    "for directory in index_path:\n",
    "    subfolders= [f.path for f in os.scandir(directory) if f.is_dir()]\n",
    "    for rep in subfolders:\n",
    "        onlyfiles = [join(rep,f) for f in listdir(rep) if isfile(join(rep, f))]\n",
    "        for filePath in onlyfiles:\n",
    "            file = open(filePath)\n",
    "            lines = file.readlines()\n",
    "            data = [line.rstrip().split(\",\") for line in lines]\n",
    "            index = data[0][0]\n",
    "            pivot = data[0][2]\n",
    "            data.pop(0)\n",
    "            "
   ]
  },
  {
   "cell_type": "code",
   "execution_count": null,
   "id": "f5c42353",
   "metadata": {},
   "outputs": [],
   "source": []
  },
  {
   "cell_type": "code",
   "execution_count": null,
   "id": "13e03da4",
   "metadata": {},
   "outputs": [],
   "source": []
  },
  {
   "cell_type": "code",
   "execution_count": null,
   "id": "26502d8c",
   "metadata": {},
   "outputs": [],
   "source": []
  },
  {
   "cell_type": "code",
   "execution_count": null,
   "id": "b556ea61",
   "metadata": {},
   "outputs": [],
   "source": []
  },
  {
   "cell_type": "code",
   "execution_count": null,
   "id": "6d4a21e5",
   "metadata": {},
   "outputs": [],
   "source": []
  },
  {
   "cell_type": "code",
   "execution_count": null,
   "id": "add84580",
   "metadata": {},
   "outputs": [],
   "source": []
  }
 ],
 "metadata": {
  "kernelspec": {
   "display_name": "Python 3",
   "language": "python",
   "name": "python3"
  },
  "language_info": {
   "codemirror_mode": {
    "name": "ipython",
    "version": 3
   },
   "file_extension": ".py",
   "mimetype": "text/x-python",
   "name": "python",
   "nbconvert_exporter": "python",
   "pygments_lexer": "ipython3",
   "version": "3.8.10"
  }
 },
 "nbformat": 4,
 "nbformat_minor": 5
}
