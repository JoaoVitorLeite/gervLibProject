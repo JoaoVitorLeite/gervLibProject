{
 "cells": [
  {
   "cell_type": "code",
   "execution_count": 2,
   "id": "b84a110e",
   "metadata": {},
   "outputs": [],
   "source": [
    "import matplotlib.pyplot as plt\n",
    "import pandas as pd\n",
    "import numpy as np\n",
    "from matplotlib import cm\n",
    "import io\n",
    "import seaborn as sns\n",
    "import os\n",
    "from os import listdir\n",
    "from os.path import isfile, join\n",
    "import colorcet as cc\n",
    "%matplotlib inline\n",
    "plt.rcParams[\"font.family\"] = \"Times New Roman\"\n",
    "plt.rcParams[\"font.size\"] = 12"
   ]
  },
  {
   "cell_type": "code",
   "execution_count": 23,
   "id": "c707bad7",
   "metadata": {},
   "outputs": [],
   "source": [
    "# def plot_query(path, join=\"median\"):\n",
    "#     query_data = []\n",
    "#     subfoldersIndex = [f.path for f in os.scandir(path) if f.is_dir()]\n",
    "#     for directory in subfoldersIndex:\n",
    "#         onlyfiles = [f.path for f in os.scandir(directory) if ((f.is_file()) and ('stats' not in f.path))]\n",
    "#         for filePath in onlyfiles:\n",
    "#             try:\n",
    "#                 file = open(filePath)\n",
    "#                 lines = file.readlines()\n",
    "#                 data = [line.rstrip().split(\",\") for line in lines]\n",
    "#                 index = data[0][0]\n",
    "#                 pivot = data[0][2]\n",
    "#                 data = data[2:]\n",
    "#                 for i in range(0, len(data)):\n",
    "#                     data[i] = [index, pivot] + data[i]\n",
    "#                 query_data.extend(data)\n",
    "#             finally:\n",
    "#                 file.close()\n",
    "\n",
    "#     columns = [\"Índice\", \"Pivô\", \"K\", \"Tempo\", \"Cálculos_de_distância\", \"Acessos_ao_disco\"]\n",
    "#     query_data.insert(0, columns)            \n",
    "#     data = [\" \".join(line) for line in query_data]\n",
    "#     df = pd.read_csv(io.StringIO('\\n'.join(data)), delim_whitespace=True)\n",
    "#     df = df[df[\"Pivô\"] != \"RANDOM\"]\n",
    "#     group_df = pd.DataFrame()\n",
    "#     if(join == \"mean\"):\n",
    "#         group_df = df.groupby([\"Índice\", \"Pivô\", \"K\"])[[\"Tempo\", \"Cálculos_de_distância\", \"Acessos_ao_disco\"]].mean().reset_index()\n",
    "#     else:\n",
    "#         group_df = df.groupby([\"Índice\", \"Pivô\", \"K\"])[[\"Tempo\", \"Cálculos_de_distância\", \"Acessos_ao_disco\"]].median().reset_index()\n",
    "#     g = sns.FacetGrid(group_df, col=\"Pivô\", hue=\"Índice\", col_wrap=3, height=4, aspect=1, sharey=False)\n",
    "#     g.map(sns.lineplot, \"K\", \"Cálculos_de_distância\")\n",
    "#     g.set(xticks=np.arange(0,101,10))\n",
    "#     g.set_xticklabels(np.arange(0,101,10))\n",
    "#     g.set(ylabel=\"Cálculos de distância\")\n",
    "#     g.add_legend()"
   ]
  },
  {
   "cell_type": "code",
   "execution_count": 3,
   "id": "3f1e59bd",
   "metadata": {},
   "outputs": [],
   "source": [
    "# plot_query(\"../../../../../tcc_expt/consultas/cities/\")"
   ]
  },
  {
   "cell_type": "code",
   "execution_count": 3,
   "id": "14dae629",
   "metadata": {},
   "outputs": [],
   "source": [
    "# def plot_query(path, join=\"median\"):\n",
    "#     palette = sns.color_palette(cc.glasbey, n_colors=12)\n",
    "#     query_data = []\n",
    "#     subfoldersIndex = [f.path for f in os.scandir(path) if f.is_dir()]\n",
    "#     for directory in subfoldersIndex:\n",
    "#         onlyfiles = [f.path for f in os.scandir(directory) if ((f.is_file()) and ('stats' not in f.path))]\n",
    "#         for filePath in onlyfiles:\n",
    "#             try:\n",
    "#                 file = open(filePath)\n",
    "#                 lines = file.readlines()\n",
    "#                 data = [line.rstrip().split(\",\") for line in lines]\n",
    "#                 index = data[0][0]\n",
    "#                 pivot = data[0][2]\n",
    "#                 data = data[2:]\n",
    "#                 for i in range(0, len(data)):\n",
    "#                     data[i] = [index, pivot] + data[i]\n",
    "#                 query_data.extend(data)\n",
    "#             finally:\n",
    "#                 file.close()\n",
    "\n",
    "#     columns = [\"Índice\", \"Pivô\", \"K\", \"Tempo\", \"Cálculos_de_distância\", \"Acessos_ao_disco\"]\n",
    "#     query_data.insert(0, columns)            \n",
    "#     data = [\" \".join(line) for line in query_data]\n",
    "#     df = pd.read_csv(io.StringIO('\\n'.join(data)), delim_whitespace=True)\n",
    "#     df = df[df[\"Pivô\"] != \"RANDOM\"]\n",
    "#     group_df = pd.DataFrame()\n",
    "#     if(join == \"mean\"):\n",
    "#         group_df = df.groupby([\"Índice\", \"Pivô\", \"K\"])[[\"Tempo\", \"Cálculos_de_distância\", \"Acessos_ao_disco\"]].mean().reset_index()\n",
    "#     else:\n",
    "#         group_df = df.groupby([\"Índice\", \"Pivô\", \"K\"])[[\"Tempo\", \"Cálculos_de_distância\", \"Acessos_ao_disco\"]].median().reset_index()\n",
    "#     g = sns.FacetGrid(group_df, col=\"Índice\", hue=\"Pivô\", col_wrap=4, height=4, aspect=1, sharey=False, \n",
    "#                       palette=palette, hue_kws=dict(marker=[\"o\", \"v\", \"^\", \"<\", \"s\", \"p\", \"P\", \"X\", \"d\", \"H\", \">\", \"*\"]))\n",
    "#     g.map(sns.lineplot, \"K\", \"Cálculos_de_distância\")\n",
    "#     g.set(xticks=np.arange(0,101,10))\n",
    "#     g.set_xticklabels(np.arange(0,101,10))\n",
    "#     g.set(ylabel=\"Cálculos de distância\")\n",
    "#     g.add_legend()\n",
    "\n",
    "def plot_query(path, join=\"median\"):\n",
    "    palette = sns.color_palette(cc.glasbey, n_colors=12)\n",
    "    query_data = []\n",
    "    indexPath = [\"omni\", \"vp\", \"mvp\", \"pm\", \"spb\"]\n",
    "    \n",
    "    \n",
    "    "
   ]
  },
  {
   "cell_type": "code",
   "execution_count": null,
   "id": "e4d31000",
   "metadata": {},
   "outputs": [],
   "source": [
    "plot_query(\"../../../../../tcc_expt/consultas/card/\")"
   ]
  },
  {
   "cell_type": "code",
   "execution_count": null,
   "id": "8e791b1e",
   "metadata": {},
   "outputs": [],
   "source": []
  },
  {
   "cell_type": "code",
   "execution_count": 106,
   "id": "15f19595",
   "metadata": {},
   "outputs": [],
   "source": [
    "def plot_build(path, join=\"median\"):\n",
    "    palette = sns.color_palette(cc.glasbey, n_colors=12)\n",
    "    query_data = []\n",
    "    subfoldersIndex = [f.path for f in os.scandir(path) if f.is_dir()]\n",
    "    for directory in subfoldersIndex:\n",
    "        onlyfiles = [f.path for f in os.scandir(directory) if ((f.is_file()) and ('stats' in f.path))]\n",
    "        for filePath in onlyfiles:\n",
    "            try:\n",
    "                file = open(filePath)\n",
    "                lines = file.readlines()\n",
    "                data = [line.rstrip().split(\",\") for line in lines]\n",
    "                index = data[0][0]\n",
    "                pivot = data[0][2]\n",
    "                data = data[2:]\n",
    "                for i in range(0, len(data)):\n",
    "                    data[i] = [index, pivot] + data[i]\n",
    "                #print(data)\n",
    "                query_data.extend(data)\n",
    "            finally:\n",
    "                file.close()\n",
    "    \n",
    "    columns = [\"Índice\", \"Pivô\", \"Tempo\", \"Cálculos_de_distância\"]\n",
    "    query_data.insert(0, columns)            \n",
    "    data = [\" \".join(line) for line in query_data]\n",
    "    df = pd.read_csv(io.StringIO('\\n'.join(data)), delim_whitespace=True)\n",
    "    df = df[df[\"Pivô\"] != \"RANDOM\"]\n",
    "    df[\"Tempo\"] = df[\"Tempo\"]/1e6\n",
    "    group_df = pd.DataFrame()\n",
    "\n",
    "    if(join == \"mean\"):\n",
    "        group_df = df.groupby([\"Índice\", \"Pivô\"])[[\"Tempo\", \"Cálculos_de_distância\"]].mean().reset_index()\n",
    "    else:\n",
    "        group_df = df.groupby([\"Índice\", \"Pivô\"])[[\"Tempo\", \"Cálculos_de_distância\"]].median().reset_index()\n",
    "\n",
    "    #plt.figure(figsize=(8,6))\n",
    "    g = sns.catplot(data=group_df, x=\"Pivô\", y=\"Tempo\", hue=\"Pivô\", col=\"Índice\", kind=\"bar\", dodge=False, palette=palette)\n",
    "    g.set_xticklabels(rotation=45, ha='right')\n",
    "    g.set(ylabel=\"Tempo (ms)\")\n"
   ]
  },
  {
   "cell_type": "code",
   "execution_count": 1,
   "id": "bfcdaa6a",
   "metadata": {},
   "outputs": [
    {
     "ename": "NameError",
     "evalue": "name 'plot_build' is not defined",
     "output_type": "error",
     "traceback": [
      "\u001b[0;31m---------------------------------------------------------------------------\u001b[0m",
      "\u001b[0;31mNameError\u001b[0m                                 Traceback (most recent call last)",
      "Cell \u001b[0;32mIn[1], line 1\u001b[0m\n\u001b[0;32m----> 1\u001b[0m \u001b[43mplot_build\u001b[49m(\u001b[38;5;124m\"\u001b[39m\u001b[38;5;124m../../../../../tcc_expt/consultas/avila/\u001b[39m\u001b[38;5;124m\"\u001b[39m)\n",
      "\u001b[0;31mNameError\u001b[0m: name 'plot_build' is not defined"
     ]
    }
   ],
   "source": [
    "plot_build(\"../../../../../tcc_expt/consultas/avila/\")"
   ]
  },
  {
   "cell_type": "code",
   "execution_count": null,
   "id": "4ab10bac",
   "metadata": {},
   "outputs": [],
   "source": []
  },
  {
   "cell_type": "code",
   "execution_count": 2,
   "id": "71a4624a",
   "metadata": {},
   "outputs": [],
   "source": [
    "# path = \"../results/mnist_results/\""
   ]
  },
  {
   "cell_type": "code",
   "execution_count": 3,
   "id": "c07f9ac2",
   "metadata": {},
   "outputs": [],
   "source": [
    "# index_path = [join(path, \"omni_results/\"), join(path, \"vp_results/\"), join(path, \"pm_results/\"), join(path, \"mvp_results\")]\n",
    "\n",
    "# query_data = []\n",
    "\n",
    "# for directory in index_path:\n",
    "#     subfolders = [f.path for f in os.scandir(directory) if f.is_dir()]\n",
    "#     for rep in subfolders:\n",
    "#         onlyfiles = [join(rep,f) for f in listdir(rep) if isfile(join(rep, f))]\n",
    "#         for filePath in onlyfiles:\n",
    "#             try:\n",
    "#                 file = open(filePath)\n",
    "#                 lines = file.readlines()\n",
    "#                 data = [line.rstrip().split(\",\") for line in lines]\n",
    "#                 index = data[0][0]\n",
    "#                 pivot = data[0][2]\n",
    "#                 data = data[2:]\n",
    "\n",
    "#                 for i in range(0, len(data)):\n",
    "#                     data[i] = [index, pivot] + data[i]\n",
    "\n",
    "#                 query_data.extend(data)\n",
    "#             finally:\n",
    "#                 file.close()\n",
    "\n",
    "# columns = [\"Index\", \"Pivot\", \"K\", \"Time\", \"Distance_Count\", \"Disk_Access\"]\n",
    "# query_data.insert(0, columns)\n",
    "# data = [\" \".join(line) for line in query_data]\n",
    "# df = pd.read_csv(io.StringIO('\\n'.join(data)), delim_whitespace=True)"
   ]
  },
  {
   "cell_type": "code",
   "execution_count": 4,
   "id": "e7fe5b47",
   "metadata": {},
   "outputs": [],
   "source": [
    "# group_df = df.groupby([\"Index\", \"Pivot\", \"K\"])[[\"Time\", \"Distance_Count\", \"Disk_Access\"]].mean().reset_index()\n",
    "# group_df"
   ]
  },
  {
   "cell_type": "code",
   "execution_count": 5,
   "id": "6d8e235d",
   "metadata": {},
   "outputs": [],
   "source": [
    "# g = sns.FacetGrid(group_df, col=\"Pivot\", hue=\"Index\", col_wrap=3, height=4, aspect=1)\n",
    "# g.map(sns.lineplot, \"K\", \"Distance_Count\")\n",
    "# g.set(xticks=np.arange(0,101,10))\n",
    "# g.set_xticklabels(np.arange(0,101,10))\n",
    "# g.add_legend()"
   ]
  },
  {
   "cell_type": "code",
   "execution_count": null,
   "id": "3df17c93",
   "metadata": {},
   "outputs": [],
   "source": []
  },
  {
   "cell_type": "code",
   "execution_count": 6,
   "id": "6c76d5af",
   "metadata": {},
   "outputs": [],
   "source": [
    "# def plot_query(path, join=\"median\"):\n",
    "#     query_data = []\n",
    "#     subfoldersIndex = [f.path for f in os.scandir(path) if f.is_dir()]\n",
    "#     for directory in subfoldersIndex:\n",
    "#         subfolders = [f.path for f in os.scandir(directory) if f.is_dir()]\n",
    "#         for rep in subfolders:\n",
    "#             onlyfiles = [f.path for f in os.scandir(rep) if f.is_file()]\n",
    "#             for filePath in onlyfiles:\n",
    "#                 try:\n",
    "#                     file = open(filePath)\n",
    "#                     lines = file.readlines()\n",
    "#                     data = [line.rstrip().split(\",\") for line in lines]\n",
    "#                     index = data[0][0]\n",
    "#                     pivot = data[0][2]\n",
    "#                     data = data[2:]\n",
    "\n",
    "#                     for i in range(0, len(data)):\n",
    "#                         data[i] = [index, pivot] + data[i]\n",
    "\n",
    "#                     query_data.extend(data)\n",
    "#                 finally:\n",
    "#                     file.close()\n",
    "\n",
    "#     columns = [\"Index\", \"Pivot\", \"K\", \"Time\", \"Distance_Count\", \"Disk_Access\"]\n",
    "#     query_data.insert(0, columns)\n",
    "#     data = [\" \".join(line) for line in query_data]\n",
    "#     df = pd.read_csv(io.StringIO('\\n'.join(data)), delim_whitespace=True)\n",
    "#     df = df[df.Pivot != \"RANDOM\"]\n",
    "#     group_df = pd.DataFrame()\n",
    "#     if(join == \"mean\"):\n",
    "#         group_df = df.groupby([\"Index\", \"Pivot\", \"K\"])[[\"Time\", \"Distance_Count\", \"Disk_Access\"]].mean().reset_index()\n",
    "#     else:\n",
    "#         group_df = df.groupby([\"Index\", \"Pivot\", \"K\"])[[\"Time\", \"Distance_Count\", \"Disk_Access\"]].median().reset_index()\n",
    "#     g = sns.FacetGrid(group_df, col=\"Pivot\", hue=\"Index\", col_wrap=3, height=4, aspect=1, sharey=False)\n",
    "#     g.map(sns.lineplot, \"K\", \"Distance_Count\")\n",
    "#     g.set(xticks=np.arange(0,101,10))\n",
    "#     g.set_xticklabels(np.arange(0,101,10))\n",
    "#     g.set(ylabel=\"Distance Count\")\n",
    "#     g.add_legend()"
   ]
  },
  {
   "cell_type": "code",
   "execution_count": null,
   "id": "8f71609f",
   "metadata": {},
   "outputs": [],
   "source": []
  },
  {
   "cell_type": "code",
   "execution_count": null,
   "id": "a0de24c2",
   "metadata": {},
   "outputs": [],
   "source": []
  },
  {
   "cell_type": "code",
   "execution_count": null,
   "id": "f72d9ccc",
   "metadata": {},
   "outputs": [],
   "source": []
  },
  {
   "cell_type": "code",
   "execution_count": null,
   "id": "7c5a0c60",
   "metadata": {},
   "outputs": [],
   "source": []
  },
  {
   "cell_type": "code",
   "execution_count": null,
   "id": "7a747fc0",
   "metadata": {},
   "outputs": [],
   "source": []
  }
 ],
 "metadata": {
  "kernelspec": {
   "display_name": "Python 3 (ipykernel)",
   "language": "python",
   "name": "python3"
  },
  "language_info": {
   "codemirror_mode": {
    "name": "ipython",
    "version": 3
   },
   "file_extension": ".py",
   "mimetype": "text/x-python",
   "name": "python",
   "nbconvert_exporter": "python",
   "pygments_lexer": "ipython3",
   "version": "3.10.9"
  }
 },
 "nbformat": 4,
 "nbformat_minor": 5
}
